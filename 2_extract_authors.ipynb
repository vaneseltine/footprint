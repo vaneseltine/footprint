{
 "cells": [
  {
   "cell_type": "code",
   "execution_count": 27,
   "id": "9514958d",
   "metadata": {},
   "outputs": [
    {
     "name": "stdout",
     "output_type": "stream",
     "text": [
      "1133\n"
     ]
    }
   ],
   "source": [
    "import math\n",
    "import json\n",
    "from pathlib import Path\n",
    "import pickle\n",
    "import time\n",
    "\n",
    "from IPython.display import display, clear_output\n",
    "import numpy as np\n",
    "import pandas as pd\n",
    "import httpx\n",
    "\n",
    "# for i in range(10):\n",
    "#     clear_output(wait=True)\n",
    "#     print(i)\n",
    "#     time.sleep(0.1)\n",
    "\n",
    "DATA_DIR = Path('./data')\n",
    "WORKS_DATA_DIR = DATA_DIR / 'works_of_institutions'\n",
    "print(len(list(WORKS_DATA_DIR.glob('*.json'))))"
   ]
  },
  {
   "cell_type": "code",
   "execution_count": 28,
   "id": "e8c2da21",
   "metadata": {},
   "outputs": [
    {
     "name": "stdout",
     "output_type": "stream",
     "text": [
      "https://openalex.org/W3087139986\n",
      "https://openalex.org/A2814149936 Yuzi Tian ['University of Michigan–Ann Arbor', 'Department of Rheumatology and Immunology, Xiangya Hospital, Central South University, Changsha, Hunan, China.']\n",
      "https://openalex.org/A2607418774 Qiufang Deng ['University of Michigan–Ann Arbor', 'Department of Rheumatology and Immunology, Xiangya Hospital, Central South University, Changsha, Hunan, China.']\n",
      "https://openalex.org/A2274029971 Hasan B. Alam ['University of Michigan–Ann Arbor']\n",
      "https://openalex.org/A2107458222 Yongqing Li ['University of Michigan–Ann Arbor']\n",
      "\n"
     ]
    }
   ],
   "source": [
    "work_file = WORKS_DATA_DIR / 'work-2020-true-1.json'\n",
    "\n",
    "with work_file.open('r', encoding='UTF-8') as infile:\n",
    "    work_json = json.load(infile)\n",
    "print(len(work_json['results']))\n",
    "\n",
    "print(work_json['results'][0].keys())\n",
    "for r in work_json['results']:\n",
    "    clear_output(wait=True)\n",
    "    print(r['id'])\n",
    "    matched_authors = [x for x in r['authorships'] if any(i for i in x['institutions'] if i['id'] in SAMPLE_INSTITUTIONS)]\n",
    "    for auth in matched_authors:\n",
    "        print(auth['author']['id'], auth['author']['display_name'], [i['display_name'] for i in auth['institutions']])\n",
    "    print()\n",
    "    \n"
   ]
  },
  {
   "cell_type": "code",
   "execution_count": 13,
   "id": "8b1b53ab",
   "metadata": {},
   "outputs": [],
   "source": [
    "SAMPLE_INSTITUTIONS = (\n",
    "    'https://openalex.org/I27837315',\n",
    "    'https://openalex.org/I4210114445',\n",
    "    'https://openalex.org/I4210151884'\n",
    ")"
   ]
  },
  {
   "cell_type": "code",
   "execution_count": null,
   "id": "b93a76be",
   "metadata": {},
   "outputs": [],
   "source": []
  },
  {
   "cell_type": "code",
   "execution_count": null,
   "id": "307295ff",
   "metadata": {},
   "outputs": [],
   "source": [
    "author_ids = set()"
   ]
  },
  {
   "cell_type": "code",
   "execution_count": null,
   "id": "a90ebc05",
   "metadata": {},
   "outputs": [],
   "source": [
    "for work_file in WORKS_DATA_DIR.glob(\"work-*.json\"):\n",
    "    clear_output(wait=True)\n",
    "    print(work_file)\n",
    "    with work_file.open('r', encoding='UTF-8') as infile:\n",
    "        work_json = json.load(infile)\n",
    "    for r in work_json['results']:\n",
    "        print(r['id'])\n",
    "        matched_authors = [x for x in r['authorships'] if any(i for i in x['institutions'] if i.get('id') in SAMPLE_INSTITUTIONS)]\n",
    "        for auth in matched_authors:\n",
    "            author_id = auth['author'].get('id')\n",
    "            if author_id and author_id not in author_ids:\n",
    "                author_ids.add(auth['author']['id'])\n",
    "                print(author_id, auth['author']['display_name'], [i.get('display_name') for i in auth['institutions']])\n",
    "    print('up to', len(author_ids))\n",
    "print('done')"
   ]
  },
  {
   "cell_type": "code",
   "execution_count": 38,
   "id": "ad80fd19",
   "metadata": {
    "scrolled": false
   },
   "outputs": [
    {
     "name": "stdout",
     "output_type": "stream",
     "text": [
      "99174\n"
     ]
    }
   ],
   "source": [
    "authors_out = WORKS_DATA_DIR / 'authors_from_works_of_institutions.json'\n",
    "with authors_out.open('w', encoding='UTF-8') as outfile:\n",
    "    json.dump(list(author_ids), outfile)\n",
    "print(len(author_ids))"
   ]
  },
  {
   "cell_type": "markdown",
   "id": "5857285d",
   "metadata": {},
   "source": [
    "### author_id to authored works"
   ]
  },
  {
   "cell_type": "code",
   "execution_count": 41,
   "id": "0b18c787",
   "metadata": {},
   "outputs": [
    {
     "data": {
      "text/plain": [
       "'https://openalex.org/A2669589972'"
      ]
     },
     "execution_count": 41,
     "metadata": {},
     "output_type": "execute_result"
    }
   ],
   "source": [
    "list(author_ids)[0]"
   ]
  }
 ],
 "metadata": {
  "kernelspec": {
   "display_name": "Python 3 (ipykernel)",
   "language": "python",
   "name": "python3"
  },
  "language_info": {
   "codemirror_mode": {
    "name": "ipython",
    "version": 3
   },
   "file_extension": ".py",
   "mimetype": "text/x-python",
   "name": "python",
   "nbconvert_exporter": "python",
   "pygments_lexer": "ipython3",
   "version": "3.9.7"
  }
 },
 "nbformat": 4,
 "nbformat_minor": 5
}
