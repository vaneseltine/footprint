{
 "cells": [
  {
   "cell_type": "code",
   "execution_count": 45,
   "id": "bad626a0",
   "metadata": {},
   "outputs": [
    {
     "name": "stdout",
     "output_type": "stream",
     "text": [
      "1134\n"
     ]
    }
   ],
   "source": [
    "import math\n",
    "import json\n",
    "from pathlib import Path\n",
    "import pickle\n",
    "import time\n",
    "\n",
    "from IPython.display import display, clear_output\n",
    "import numpy as np\n",
    "import pandas as pd\n",
    "import httpx\n",
    "\n",
    "# for i in range(10):\n",
    "#     clear_output(wait=True)\n",
    "#     print(i)\n",
    "#     time.sleep(0.1)\n",
    "\n",
    "DATA_DIR = Path('./data')\n",
    "WORKS_DATA_DIR = DATA_DIR / 'works_of_institutions'\n",
    "AUTHORS_DIR = DATA_DIR / 'works_by_author'\n",
    "print(len(list(WORKS_DATA_DIR.glob('*.json'))))"
   ]
  },
  {
   "cell_type": "markdown",
   "id": "7381c1b7",
   "metadata": {},
   "source": [
    "## institutional works to author_id"
   ]
  },
  {
   "cell_type": "code",
   "execution_count": 28,
   "id": "e6352dda",
   "metadata": {},
   "outputs": [
    {
     "name": "stdout",
     "output_type": "stream",
     "text": [
      "https://openalex.org/W3087139986\n",
      "https://openalex.org/A2814149936 Yuzi Tian ['University of Michigan–Ann Arbor', 'Department of Rheumatology and Immunology, Xiangya Hospital, Central South University, Changsha, Hunan, China.']\n",
      "https://openalex.org/A2607418774 Qiufang Deng ['University of Michigan–Ann Arbor', 'Department of Rheumatology and Immunology, Xiangya Hospital, Central South University, Changsha, Hunan, China.']\n",
      "https://openalex.org/A2274029971 Hasan B. Alam ['University of Michigan–Ann Arbor']\n",
      "https://openalex.org/A2107458222 Yongqing Li ['University of Michigan–Ann Arbor']\n",
      "\n"
     ]
    }
   ],
   "source": [
    "work_file = WORKS_DATA_DIR / 'work-2020-true-1.json'\n",
    "\n",
    "with work_file.open('r', encoding='UTF-8') as infile:\n",
    "    work_json = json.load(infile)\n",
    "print(len(work_json['results']))\n",
    "\n",
    "print(work_json['results'][0].keys())\n",
    "for r in work_json['results']:\n",
    "    clear_output(wait=True)\n",
    "    print(r['id'])\n",
    "    matched_authors = [x for x in r['authorships'] if any(i for i in x['institutions'] if i['id'] in SAMPLE_INSTITUTIONS)]\n",
    "    for auth in matched_authors:\n",
    "        print(auth['author']['id'], auth['author']['display_name'], [i['display_name'] for i in auth['institutions']])\n",
    "    print()\n",
    "    \n"
   ]
  },
  {
   "cell_type": "code",
   "execution_count": 13,
   "id": "51727c54",
   "metadata": {},
   "outputs": [],
   "source": [
    "SAMPLE_INSTITUTIONS = (\n",
    "    'https://openalex.org/I27837315',\n",
    "    'https://openalex.org/I4210114445',\n",
    "    'https://openalex.org/I4210151884'\n",
    ")"
   ]
  },
  {
   "cell_type": "code",
   "execution_count": null,
   "id": "eb14253f",
   "metadata": {},
   "outputs": [],
   "source": [
    "author_ids = set()\n",
    "\n",
    "for work_file in WORKS_DATA_DIR.glob(\"work-*.json\"):\n",
    "    clear_output(wait=True)\n",
    "    print(work_file)\n",
    "    with work_file.open('r', encoding='UTF-8') as infile:\n",
    "        work_json = json.load(infile)\n",
    "    for r in work_json['results']:\n",
    "        print(r['id'])\n",
    "        matched_authors = [x for x in r['authorships'] if any(i for i in x['institutions'] if i.get('id') in SAMPLE_INSTITUTIONS)]\n",
    "        for auth in matched_authors:\n",
    "            author_id = auth['author'].get('id')\n",
    "            if author_id and author_id not in author_ids:\n",
    "                author_ids.add(auth['author']['id'])\n",
    "                print(author_id, auth['author']['display_name'], [i.get('display_name') for i in auth['institutions']])\n",
    "    print('up to', len(author_ids))\n",
    "print('done')"
   ]
  },
  {
   "cell_type": "code",
   "execution_count": 38,
   "id": "4c4583f9",
   "metadata": {
    "scrolled": false
   },
   "outputs": [
    {
     "name": "stdout",
     "output_type": "stream",
     "text": [
      "99174\n"
     ]
    }
   ],
   "source": [
    "authors_out = WORKS_DATA_DIR / 'authors_from_works_of_institutions.json'\n",
    "with authors_out.open('w', encoding='UTF-8') as outfile:\n",
    "    json.dump(list(author_ids), outfile)\n",
    "print(len(author_ids))"
   ]
  },
  {
   "cell_type": "markdown",
   "id": "d2473574",
   "metadata": {},
   "source": [
    "### author_id to authored works"
   ]
  },
  {
   "cell_type": "code",
   "execution_count": 75,
   "id": "e390d1fc",
   "metadata": {},
   "outputs": [],
   "source": [
    "CONTACT_EMAIL = \"matvan@umich.edu\"\n",
    "# A2669589972 was a problem, very large file to load (??), timing out on httpx defaults\n",
    "PER_PAGE = 200"
   ]
  },
  {
   "cell_type": "code",
   "execution_count": 52,
   "id": "39feb230",
   "metadata": {},
   "outputs": [
    {
     "data": {
      "text/plain": [
       "99174"
      ]
     },
     "execution_count": 52,
     "metadata": {},
     "output_type": "execute_result"
    }
   ],
   "source": [
    "with authors_out.open('r', encoding='UTF-8') as infile:\n",
    "    authors = list(json.load(infile))\n",
    "len(authors)"
   ]
  },
  {
   "cell_type": "code",
   "execution_count": null,
   "id": "34200bd6",
   "metadata": {
    "scrolled": false
   },
   "outputs": [
    {
     "name": "stdout",
     "output_type": "stream",
     "text": [
      "A2470637351 2\n",
      "https://api.openalex.org/works?mailto=matvan@umich.edu&filter=author.id:A2470637351&per_page=200&page=1\n",
      "Skipping data\\works_by_author\\A2470637351-001.json\n",
      "https://api.openalex.org/works?mailto=matvan@umich.edu&filter=author.id:A2470637351&per_page=200&page=2\n",
      "{'count': 8, 'db_response_time_ms': 14, 'page': 2, 'per_page': 200}\n"
     ]
    }
   ],
   "source": [
    "for full_author_id in authors:\n",
    "    clear_output(wait=True)\n",
    "    author_id = full_author_id.replace('https://openalex.org/', '')\n",
    "    print(author_id, i)\n",
    "    # for year in range(MAX_YEAR, MIN_YEAR-1, -1):\n",
    "    # filtering = f\"filter=author.id:{author_id},publication_year:{year}\"\n",
    "    base_url = f\"https://api.openalex.org/works?mailto={CONTACT_EMAIL}\"\n",
    "    filtering = f\"filter=author.id:{author_id}\"\n",
    "    for i in range(1, 1000):\n",
    "        pagination = f\"per_page={PER_PAGE}&page={i}\"\n",
    "        url = \"&\".join((base_url, filtering, pagination))\n",
    "        print(url)\n",
    "\n",
    "        filename = f\"{author_id}-{i:0>3}.json\"\n",
    "        path = AUTHORS_DIR / filename\n",
    "        if path.exists():\n",
    "            print(f\"Skipping {path}\")\n",
    "            continue\n",
    "\n",
    "        try:\n",
    "            j = httpx.get(url, timeout=30.0).json()\n",
    "        except Exception as e:\n",
    "            error_path = DATA_DIR / f\"ERROR-{filename}\"\n",
    "            error_path.write_text(url + \"\\n\\n\" + str(e))\n",
    "            continue\n",
    "        print(j['meta'])\n",
    "\n",
    "        count = j['meta']['count']\n",
    "        page = j['meta']['page']\n",
    "        per_page = j['meta']['per_page']\n",
    "\n",
    "        if j['results']:\n",
    "            print(path)\n",
    "            with path.open('w', encoding='UTF-8') as outfile:\n",
    "                json.dump(j, outfile)\n",
    "        time.sleep(1)\n",
    "        if per_page * page >= count:\n",
    "            break"
   ]
  }
 ],
 "metadata": {
  "kernelspec": {
   "display_name": "Python 3 (ipykernel)",
   "language": "python",
   "name": "python3"
  },
  "language_info": {
   "codemirror_mode": {
    "name": "ipython",
    "version": 3
   },
   "file_extension": ".py",
   "mimetype": "text/x-python",
   "name": "python",
   "nbconvert_exporter": "python",
   "pygments_lexer": "ipython3",
   "version": "3.9.7"
  }
 },
 "nbformat": 4,
 "nbformat_minor": 5
}
